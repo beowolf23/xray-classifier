{
 "cells": [
  {
   "cell_type": "markdown",
   "id": "b84bddd2",
   "metadata": {},
   "source": [
    "# X-RAY Lung State Classification using CNN \n",
    "- ### Data Set : https://www.kaggle.com/paultimothymooney/chest-xray-pneumonia\n",
    "- ### Purpose\n",
    "In this notebook we are going to analyze different chest X-RAYs and determine (using a CNN model) wether a new X-RAY indicates either pneumonia or healthy lungs.\n",
    "- ### Motivation\n",
    "By the end of this project I will have assimilated how to work with keras.preprocessing methods and Convolutional Networks"
   ]
  },
  {
   "cell_type": "code",
   "execution_count": 107,
   "id": "499fb7c5",
   "metadata": {},
   "outputs": [],
   "source": [
    "#Tensorflow, Keras and other ML tools\n",
    "from sklearn.metrics import classification_report\n",
    "import tensorflow as tf\n",
    "import keras\n",
    "from tensorflow.keras.preprocessing.image import ImageDataGenerator\n",
    "\n",
    "import os\n",
    "\n",
    "#Data processing libs\n",
    "import numpy as np\n",
    "import pandas as pd\n",
    "\n",
    "#Plotting libs\n",
    "from matplotlib.pyplot import imread, imshow, subplots, show\n",
    "import matplotlib.pyplot as plt\n",
    "import seaborn as sb"
   ]
  },
  {
   "cell_type": "code",
   "execution_count": 108,
   "id": "66720324",
   "metadata": {},
   "outputs": [],
   "source": [
    "#Defining the working directories\n",
    "train_dir = \"chest_xray/train/\"\n",
    "test_dir = \"chest_xray/test/\"\n",
    "validation_dir = \"chest_xray/val/\""
   ]
  },
  {
   "cell_type": "markdown",
   "id": "ebaf8c14",
   "metadata": {},
   "source": [
    "### As the data is already split into train, test and validation, we shall explore it and see if it contains any abnormalities"
   ]
  },
  {
   "cell_type": "code",
   "execution_count": 109,
   "id": "ac052925",
   "metadata": {},
   "outputs": [
    {
     "name": "stdout",
     "output_type": "stream",
     "text": [
      "Found 5216 images belonging to 2 classes.\n"
     ]
    },
    {
     "data": {
      "text/plain": [
       "<AxesSubplot:>"
      ]
     },
     "execution_count": 109,
     "metadata": {},
     "output_type": "execute_result"
    },
    {
     "data": {
      "image/png": "[encoded data removed]",
      "text/plain": [
       "<Figure size 720x432 with 1 Axes>"
      ]
     },
     "metadata": {
      "needs_background": "light"
     },
     "output_type": "display_data"
    }
   ],
   "source": [
    "train_datagen = ImageDataGenerator(rescale = 1./255,\n",
    "                                   shear_range = 0.2,\n",
    "                                   zoom_range = 0.2,\n",
    "                                   horizontal_flip = True)\n",
    "\n",
    "img_width, img_height = 64, 64\n",
    "training_set = train_datagen.flow_from_directory(train_dir,\n",
    "                                                 target_size = (img_width, img_height),\n",
    "                                                 batch_size = 32,\n",
    "                                                 shuffle=True,\n",
    "                                                 class_mode = 'binary')\n",
    "\n",
    "#Checking if the data is balanced (no_healthy = no_pneumonia)\n",
    "\n",
    "plt.figure(figsize=(10,6))\n",
    "names = [0, 1]\n",
    "LEN = [len(os.listdir(\"chest_xray/train/NORMAL/\")), len(os.listdir(\"chest_xray/train/PNEUMONIA/\"))]\n",
    "DATA = [names, LEN]\n",
    "sb.barplot(x=names, y=LEN)\n",
    "\n",
    "#We see here an imbalance between the NORMAL lungs and Affected ones."
   ]
  },
  {
   "cell_type": "markdown",
   "id": "569c662e",
   "metadata": {},
   "source": [
    "### In the plot above we see that our data is highly imbalanced\n",
    "- #### What we want to do now is to apply weights to the categories of data so our model can treat them as equal quantities\n",
    "- #### We want to see what is the numerical difference between these two categories and then create weights for them."
   ]
  },
  {
   "cell_type": "code",
   "execution_count": 110,
   "id": "94f56eae",
   "metadata": {},
   "outputs": [
    {
     "name": "stdout",
     "output_type": "stream",
     "text": [
      "Number of NORMAL lungs: 1341\n",
      "Number of Affected lungs: 3875\n"
     ]
    }
   ],
   "source": [
    "counter1 = 0\n",
    "counter2 = 0\n",
    "\n",
    "for type in training_set.classes:\n",
    "    if type == 0:\n",
    "        counter1 += 1\n",
    "    else:\n",
    "        counter2 += 1\n",
    "\n",
    "print(\"Number of NORMAL lungs:\", counter1)\n",
    "print(\"Number of Affected lungs:\", counter2)\n",
    "\n",
    "total = counter1 + counter2\n"
   ]
  },
  {
   "cell_type": "code",
   "execution_count": 111,
   "id": "501f96be",
   "metadata": {},
   "outputs": [
    {
     "name": "stdout",
     "output_type": "stream",
     "text": [
      "{0: 1.9448173005219984, 1: 0.6730322580645162}\n"
     ]
    }
   ],
   "source": [
    "#Applying weights to the data for the model\n",
    "weight_for_0 = (1 / counter1) * (total / 2.0)\n",
    "weight_for_1 = (1 / counter2) * (total / 2.0)\n",
    "class_weight = {0: weight_for_0, 1: weight_for_1}\n",
    "print(class_weight)"
   ]
  },
  {
   "cell_type": "markdown",
   "id": "b8915920",
   "metadata": {},
   "source": [
    "### Creating the test and validation generators "
   ]
  },
  {
   "cell_type": "code",
   "execution_count": 112,
   "id": "4adecbce",
   "metadata": {},
   "outputs": [
    {
     "name": "stdout",
     "output_type": "stream",
     "text": [
      "Found 16 images belonging to 2 classes.\n",
      "Found 624 images belonging to 2 classes.\n"
     ]
    }
   ],
   "source": [
    "val_datagen = ImageDataGenerator(rescale = 1./255)\n",
    "val_set = val_datagen.flow_from_directory(validation_dir,\n",
    "                                            target_size = (img_width, img_height),\n",
    "                                            batch_size = 32,\n",
    "                                            class_mode = 'binary')\n",
    "\n",
    "test_datagen = ImageDataGenerator(rescale = 1./255)\n",
    "test_set = test_datagen.flow_from_directory(test_dir,\n",
    "                                            target_size = (img_width, img_height),\n",
    "                                            batch_size = 32,\n",
    "                                            class_mode = 'binary',\n",
    "                                            shuffle=False)\n"
   ]
  },
  {
   "cell_type": "markdown",
   "id": "55abdfcb",
   "metadata": {},
   "source": [
    "### Defining the model\n",
    "- #### We want to create a convolutional neural\n",
    "- #### We will use 2 Convolutional Layers in combination with 2 Pooling Layers\n",
    "- #### The model will be trained using the training and validation set and the weights defined above"
   ]
  },
  {
   "cell_type": "code",
   "execution_count": 113,
   "id": "bb0da00d",
   "metadata": {},
   "outputs": [],
   "source": [
    "cnn = tf.keras.Sequential()"
   ]
  },
  {
   "cell_type": "code",
   "execution_count": 114,
   "id": "5896ef57",
   "metadata": {},
   "outputs": [],
   "source": [
    "cnn.add(tf.keras.layers.Conv2D(filters=32, kernel_size=3, activation='relu', input_shape=[img_width, img_height, 3]))"
   ]
  },
  {
   "cell_type": "code",
   "execution_count": 115,
   "id": "71b1a1ad",
   "metadata": {},
   "outputs": [],
   "source": [
    "cnn.add(tf.keras.layers.MaxPool2D(pool_size=2, strides=2))"
   ]
  },
  {
   "cell_type": "code",
   "execution_count": 116,
   "id": "290f0728",
   "metadata": {},
   "outputs": [],
   "source": [
    "cnn.add(tf.keras.layers.Conv2D(filters=32, kernel_size=3, activation='relu'))\n",
    "cnn.add(tf.keras.layers.MaxPool2D(pool_size=2, strides=2))"
   ]
  },
  {
   "cell_type": "code",
   "execution_count": 117,
   "id": "71ff064c",
   "metadata": {},
   "outputs": [],
   "source": [
    "cnn.add(tf.keras.layers.Flatten())"
   ]
  },
  {
   "cell_type": "code",
   "execution_count": 118,
   "id": "d08273b0",
   "metadata": {},
   "outputs": [],
   "source": [
    "cnn.add(tf.keras.layers.Dense(units=128, activation='relu'))"
   ]
  },
  {
   "cell_type": "code",
   "execution_count": 119,
   "id": "07619a0c",
   "metadata": {},
   "outputs": [],
   "source": [
    "cnn.add(tf.keras.layers.Dense(units=1, activation='sigmoid'))"
   ]
  },
  {
   "cell_type": "code",
   "execution_count": 120,
   "id": "8358c6ba",
   "metadata": {},
   "outputs": [],
   "source": [
    "cnn.compile(optimizer = 'adam', loss = 'binary_crossentropy', metrics = ['accuracy'])"
   ]
  },
  {
   "cell_type": "code",
   "execution_count": 121,
   "id": "7545585e",
   "metadata": {},
   "outputs": [
    {
     "name": "stdout",
     "output_type": "stream",
     "text": [
      "Epoch 1/25\n",
      "163/163 [==============================] - 43s 262ms/step - loss: 0.4032 - accuracy: 0.7956 - val_loss: 0.3172 - val_accuracy: 0.8125\n",
      "Epoch 2/25\n",
      "163/163 [==============================] - 43s 261ms/step - loss: 0.2600 - accuracy: 0.8909 - val_loss: 0.7676 - val_accuracy: 0.6250\n",
      "Epoch 3/25\n",
      "163/163 [==============================] - 42s 259ms/step - loss: 0.2381 - accuracy: 0.9015 - val_loss: 0.7074 - val_accuracy: 0.6250\n",
      "Epoch 4/25\n",
      "163/163 [==============================] - 42s 260ms/step - loss: 0.2217 - accuracy: 0.9078 - val_loss: 0.6161 - val_accuracy: 0.7500\n",
      "Epoch 5/25\n",
      "163/163 [==============================] - 42s 260ms/step - loss: 0.2141 - accuracy: 0.9145 - val_loss: 0.5893 - val_accuracy: 0.6875\n",
      "Epoch 6/25\n",
      "163/163 [==============================] - 42s 260ms/step - loss: 0.1867 - accuracy: 0.9271 - val_loss: 0.3808 - val_accuracy: 0.8125\n",
      "Epoch 7/25\n",
      "163/163 [==============================] - 42s 259ms/step - loss: 0.1785 - accuracy: 0.9258 - val_loss: 0.5176 - val_accuracy: 0.6250\n",
      "Epoch 8/25\n",
      "163/163 [==============================] - 42s 259ms/step - loss: 0.1703 - accuracy: 0.9331 - val_loss: 0.3262 - val_accuracy: 0.8125\n",
      "Epoch 9/25\n",
      "163/163 [==============================] - 43s 263ms/step - loss: 0.1680 - accuracy: 0.9379 - val_loss: 0.4464 - val_accuracy: 0.6875\n",
      "Epoch 10/25\n",
      "163/163 [==============================] - 43s 260ms/step - loss: 0.1577 - accuracy: 0.9411 - val_loss: 0.3148 - val_accuracy: 0.8125\n",
      "Epoch 11/25\n",
      "163/163 [==============================] - 42s 261ms/step - loss: 0.1682 - accuracy: 0.9362 - val_loss: 0.2773 - val_accuracy: 0.8750\n",
      "Epoch 12/25\n",
      "163/163 [==============================] - 42s 259ms/step - loss: 0.1539 - accuracy: 0.9408 - val_loss: 0.4377 - val_accuracy: 0.7500\n",
      "Epoch 13/25\n",
      "163/163 [==============================] - 43s 262ms/step - loss: 0.1433 - accuracy: 0.9457 - val_loss: 0.4838 - val_accuracy: 0.7500\n",
      "Epoch 14/25\n",
      "163/163 [==============================] - 42s 261ms/step - loss: 0.1475 - accuracy: 0.9398 - val_loss: 0.4328 - val_accuracy: 0.7500\n",
      "Epoch 15/25\n",
      "163/163 [==============================] - 42s 260ms/step - loss: 0.1446 - accuracy: 0.9448 - val_loss: 0.4070 - val_accuracy: 0.8125\n",
      "Epoch 16/25\n",
      "163/163 [==============================] - 43s 261ms/step - loss: 0.1316 - accuracy: 0.9469 - val_loss: 0.3787 - val_accuracy: 0.8750\n",
      "Epoch 17/25\n",
      "163/163 [==============================] - 42s 259ms/step - loss: 0.1348 - accuracy: 0.9448 - val_loss: 0.3841 - val_accuracy: 0.8125\n",
      "Epoch 18/25\n",
      "163/163 [==============================] - 42s 259ms/step - loss: 0.1386 - accuracy: 0.9461 - val_loss: 0.2085 - val_accuracy: 0.9375\n",
      "Epoch 19/25\n",
      "163/163 [==============================] - 42s 257ms/step - loss: 0.1377 - accuracy: 0.9442 - val_loss: 0.2213 - val_accuracy: 0.9375\n",
      "Epoch 20/25\n",
      "163/163 [==============================] - 42s 258ms/step - loss: 0.1296 - accuracy: 0.9523 - val_loss: 0.3407 - val_accuracy: 0.8125\n",
      "Epoch 21/25\n",
      "163/163 [==============================] - 42s 258ms/step - loss: 0.1268 - accuracy: 0.9505 - val_loss: 0.4304 - val_accuracy: 0.8750\n",
      "Epoch 22/25\n",
      "163/163 [==============================] - 42s 258ms/step - loss: 0.1332 - accuracy: 0.9503 - val_loss: 0.3036 - val_accuracy: 0.8750\n",
      "Epoch 23/25\n",
      "163/163 [==============================] - 42s 258ms/step - loss: 0.1159 - accuracy: 0.9567 - val_loss: 0.2011 - val_accuracy: 0.9375\n",
      "Epoch 24/25\n",
      "163/163 [==============================] - 42s 260ms/step - loss: 0.1139 - accuracy: 0.9542 - val_loss: 0.5523 - val_accuracy: 0.6875\n",
      "Epoch 25/25\n",
      "163/163 [==============================] - 42s 258ms/step - loss: 0.1179 - accuracy: 0.9565 - val_loss: 0.5179 - val_accuracy: 0.6875\n"
     ]
    }
   ],
   "source": [
    "model_fit = cnn.fit(x = training_set, validation_data = val_set, epochs = 25, class_weight=class_weight)"
   ]
  },
  {
   "cell_type": "markdown",
   "id": "38ecf2a0",
   "metadata": {},
   "source": [
    "### Saving the model"
   ]
  },
  {
   "cell_type": "code",
   "execution_count": 124,
   "id": "0e992d2e",
   "metadata": {},
   "outputs": [
    {
     "name": "stdout",
     "output_type": "stream",
     "text": [
      "INFO:tensorflow:Assets written to: pneumonia_prediction_model/assets\n"
     ]
    }
   ],
   "source": [
    "\n",
    "cnn.save('pneumonia_prediction_model')"
   ]
  },
  {
   "cell_type": "markdown",
   "id": "c1605b69",
   "metadata": {},
   "source": [
    "### Loading the model to evaluate it's potential"
   ]
  },
  {
   "cell_type": "code",
   "execution_count": 128,
   "id": "81e87f7c",
   "metadata": {},
   "outputs": [],
   "source": [
    "model_fit = keras.models.load_model('pneumonia_prediction_model/')"
   ]
  },
  {
   "cell_type": "code",
   "execution_count": 130,
   "id": "384bdfb4",
   "metadata": {},
   "outputs": [
    {
     "name": "stdout",
     "output_type": "stream",
     "text": [
      "20/20 [==============================] - 4s 173ms/step - loss: 0.3632 - accuracy: 0.8958\n"
     ]
    }
   ],
   "source": [
    "model_eval = model_fit.evaluate(test_set)"
   ]
  },
  {
   "cell_type": "markdown",
   "id": "2091f0d0",
   "metadata": {},
   "source": [
    "### As we can see here, our model develops a 89.58% accuracy on the test set"
   ]
  },
  {
   "cell_type": "code",
   "execution_count": 127,
   "id": "722e8df5",
   "metadata": {},
   "outputs": [
    {
     "data": {
      "text/plain": [
       "[0.3632180392742157, 0.8958333134651184]"
      ]
     },
     "execution_count": 127,
     "metadata": {},
     "output_type": "execute_result"
    }
   ],
   "source": [
    "model_eval"
   ]
  },
  {
   "cell_type": "code",
   "execution_count": 131,
   "id": "9630e429",
   "metadata": {},
   "outputs": [],
   "source": [
    "predictions = np.round(cnn.predict(test_set), 0)"
   ]
  },
  {
   "cell_type": "code",
   "execution_count": 132,
   "id": "bf736be0",
   "metadata": {},
   "outputs": [],
   "source": [
    "gt_class = test_set.classes\n",
    "gt_labels = list(test_set.class_indices.keys())"
   ]
  },
  {
   "cell_type": "markdown",
   "id": "f38599d1",
   "metadata": {},
   "source": [
    "### We can visualise the result using a heatmap and a confusion matrix"
   ]
  },
  {
   "cell_type": "code",
   "execution_count": 133,
   "id": "db08646c",
   "metadata": {},
   "outputs": [
    {
     "data": {
      "text/plain": [
       "<AxesSubplot:>"
      ]
     },
     "execution_count": 133,
     "metadata": {},
     "output_type": "execute_result"
    },
    {
     "data": {
      "image/png": "[encoded data removed]",
      "text/plain": [
       "<Figure size 432x288 with 2 Axes>"
      ]
     },
     "metadata": {
      "needs_background": "light"
     },
     "output_type": "display_data"
    }
   ],
   "source": [
    "from sklearn.metrics import classification_report, confusion_matrix, accuracy_score, recall_score\n",
    "cm = confusion_matrix(gt_class, predictions)\n",
    "sb.heatmap(cm / np.sum(cm), annot=True, fmt='.2%', cmap='Blues')"
   ]
  },
  {
   "cell_type": "markdown",
   "id": "62fcc761",
   "metadata": {},
   "source": [
    "### Calculating the metrics to determine if the model succeeded in learning and predicting\n",
    "- #### As we can see below, the model did a very good job getting a 95% recall score and 92% accuracy"
   ]
  },
  {
   "cell_type": "code",
   "execution_count": 134,
   "id": "6fcc96ef",
   "metadata": {
    "scrolled": true
   },
   "outputs": [
    {
     "name": "stdout",
     "output_type": "stream",
     "text": [
      "Our cnn model has an accuracy score of 89.58 and recall score of 97.95 for the case of PNEUMONIA\n"
     ]
    }
   ],
   "source": [
    "accuracy = accuracy_score(gt_class, predictions) * 100\n",
    "recall = recall_score(gt_class, predictions) * 100\n",
    "print('Our cnn model has an accuracy score of {:.2f} and recall score of {:.2f} for the case of {:s}'.format(accuracy, recall,gt_labels[1]))"
   ]
  },
  {
   "cell_type": "markdown",
   "id": "4d23d79b",
   "metadata": {},
   "source": [
    "### Printing other metrics"
   ]
  },
  {
   "cell_type": "code",
   "execution_count": 135,
   "id": "72363277",
   "metadata": {},
   "outputs": [
    {
     "name": "stdout",
     "output_type": "stream",
     "text": [
      "              precision    recall  f1-score   support\n",
      "\n",
      "      NORMAL       0.96      0.76      0.84       234\n",
      "   PNEUMONIA       0.87      0.98      0.92       390\n",
      "\n",
      "    accuracy                           0.90       624\n",
      "   macro avg       0.91      0.87      0.88       624\n",
      "weighted avg       0.90      0.90      0.89       624\n",
      "\n"
     ]
    }
   ],
   "source": [
    "report = classification_report(gt_class, predictions, target_names=gt_labels)\n",
    "print(report)"
   ]
  },
  {
   "cell_type": "code",
   "execution_count": null,
   "id": "c389ace5",
   "metadata": {},
   "outputs": [],
   "source": []
  }
 ],
 "metadata": {
  "kernelspec": {
   "display_name": "Python 3 (ipykernel)",
   "language": "python",
   "name": "python3"
  },
  "language_info": {
   "codemirror_mode": {
    "name": "ipython",
    "version": 3
   },
   "file_extension": ".py",
   "mimetype": "text/x-python",
   "name": "python",
   "nbconvert_exporter": "python",
   "pygments_lexer": "ipython3",
   "version": "3.9.5"
  }
 },
 "nbformat": 4,
 "nbformat_minor": 5
}
